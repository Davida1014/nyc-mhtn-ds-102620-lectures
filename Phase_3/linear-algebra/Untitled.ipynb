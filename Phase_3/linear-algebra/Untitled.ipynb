{
 "cells": [
  {
   "cell_type": "code",
   "execution_count": 4,
   "metadata": {},
   "outputs": [
    {
     "name": "stdout",
     "output_type": "stream",
     "text": [
      "Collecting roman\n",
      "  Downloading roman-3.3-py2.py3-none-any.whl (3.9 kB)\n",
      "Installing collected packages: roman\n",
      "Successfully installed roman-3.3\n",
      "Note: you may need to restart the kernel to use updated packages.\n"
     ]
    }
   ],
   "source": [
    "!pip install roman\n"
   ]
  },
  {
   "cell_type": "code",
   "execution_count": 7,
   "metadata": {},
   "outputs": [],
   "source": [
    "import roman\n",
    "def intToRoman(num) -> str:\n",
    "    return roman.toRoman(num)"
   ]
  },
  {
   "cell_type": "code",
   "execution_count": 8,
   "metadata": {},
   "outputs": [
    {
     "data": {
      "text/plain": [
       "'X'"
      ]
     },
     "execution_count": 8,
     "metadata": {},
     "output_type": "execute_result"
    }
   ],
   "source": [
    "intToRoman(10)"
   ]
  },
  {
   "cell_type": "code",
   "execution_count": 12,
   "metadata": {},
   "outputs": [
    {
     "name": "stdout",
     "output_type": "stream",
     "text": [
      "4000 1000 MMMM\n",
      "0 900 MMMM\n",
      "0 500 MMMM\n",
      "0 400 MMMM\n",
      "0 100 MMMM\n",
      "0 90 MMMM\n",
      "0 50 MMMM\n",
      "0 40 MMMM\n",
      "0 10 MMMM\n",
      "0 9 MMMM\n",
      "0 5 MMMM\n",
      "0 4 MMMM\n",
      "0 1 MMMM\n"
     ]
    }
   ],
   "source": [
    "# def intToRoman(self, num: int) -> str:\n",
    "num = 4000\n",
    "d = {1000 : \"M\", 900: \"CM\", 500 : \"D\", 400 : \"CD\", 100 : \"C\", 90 :\n",
    "                \"XC\", 50 : \"L\", 40: \"XL\", 10 : \"X\", 9 : \"IX\", 5: \"V\", 4: \"IV\",\n",
    "                1 : \"I\"}\n",
    "s = ''\n",
    "for i in d:\n",
    "    s += (num//i)*d[i]\n",
    "    print(num, i, s)\n",
    "    num %= i\n"
   ]
  },
  {
   "cell_type": "code",
   "execution_count": null,
   "metadata": {},
   "outputs": [],
   "source": []
  }
 ],
 "metadata": {
  "kernelspec": {
   "display_name": "learn-env",
   "language": "python",
   "name": "learn-env"
  },
  "language_info": {
   "codemirror_mode": {
    "name": "ipython",
    "version": 3
   },
   "file_extension": ".py",
   "mimetype": "text/x-python",
   "name": "python",
   "nbconvert_exporter": "python",
   "pygments_lexer": "ipython3",
   "version": "3.8.3"
  },
  "toc": {
   "base_numbering": 1,
   "nav_menu": {},
   "number_sections": true,
   "sideBar": true,
   "skip_h1_title": false,
   "title_cell": "Table of Contents",
   "title_sidebar": "Contents",
   "toc_cell": false,
   "toc_position": {},
   "toc_section_display": true,
   "toc_window_display": false
  }
 },
 "nbformat": 4,
 "nbformat_minor": 4
}
