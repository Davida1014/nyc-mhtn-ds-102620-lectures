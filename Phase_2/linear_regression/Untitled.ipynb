{
 "cells": [
  {
   "cell_type": "code",
   "execution_count": 2,
   "metadata": {},
   "outputs": [
    {
     "data": {
      "text/plain": [
       "0.125"
      ]
     },
     "execution_count": 2,
     "metadata": {},
     "output_type": "execute_result"
    }
   ],
   "source": [
    "#a = rainy\n",
    "#b = cloudy\n",
    "\n",
    "p_b_given_a = 0.5\n",
    "p_a = 0.1\n",
    "p_b = 0.4\n",
    "\n",
    "p_a_given_b = (p_b_given_a * p_a)/p_b\n",
    "p_a_given_b"
   ]
  },
  {
   "cell_type": "code",
   "execution_count": 3,
   "metadata": {},
   "outputs": [
    {
     "data": {
      "text/plain": [
       "0.2"
      ]
     },
     "execution_count": 3,
     "metadata": {},
     "output_type": "execute_result"
    }
   ],
   "source": [
    "#a = man\n",
    "#b = pink\n",
    "\n",
    "p_a = 0.4\n",
    "p_b = 0.25\n",
    "p_b_given_a = 0.125\n",
    "\n",
    "p_a_given_b = (p_b_given_a * p_a)/p_b\n",
    "p_a_given_b"
   ]
  },
  {
   "cell_type": "code",
   "execution_count": null,
   "metadata": {},
   "outputs": [],
   "source": []
  }
 ],
 "metadata": {
  "kernelspec": {
   "display_name": "learn-env",
   "language": "python",
   "name": "learn-env"
  },
  "language_info": {
   "codemirror_mode": {
    "name": "ipython",
    "version": 3
   },
   "file_extension": ".py",
   "mimetype": "text/x-python",
   "name": "python",
   "nbconvert_exporter": "python",
   "pygments_lexer": "ipython3",
   "version": "3.8.3"
  }
 },
 "nbformat": 4,
 "nbformat_minor": 4
}
